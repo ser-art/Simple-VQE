{
 "metadata": {
  "language_info": {
   "codemirror_mode": {
    "name": "ipython",
    "version": 3
   },
   "file_extension": ".py",
   "mimetype": "text/x-python",
   "name": "python",
   "nbconvert_exporter": "python",
   "pygments_lexer": "ipython3",
   "version": "3.7.7-final"
  },
  "orig_nbformat": 2,
  "kernelspec": {
   "name": "python_defaultSpec_1599931513574",
   "display_name": "Python 3.7.7 64-bit ('base': conda)"
  }
 },
 "nbformat": 4,
 "nbformat_minor": 2,
 "cells": [
  {
   "source": [
    "# Solution"
   ],
   "cell_type": "markdown",
   "metadata": {}
  },
  {
   "source": [
    "## Decomposion of following hamiltonian:\n",
    "\n",
    "$H=\\begin{pmatrix} \n",
    "1 & 0 & 0 & 0 \\\\\n",
    "0 & 0 & -1 & 0 \\\\\n",
    "0 & -1 & 0 & 0 \\\\\n",
    "0 & 0 & 0 & 1\n",
    "\\end{pmatrix}$\n",
    "\n",
    "For simplification, let's consider all \"terms\" as \n",
    "\n",
    "$XX = \\begin{bmatrix}\n",
    "0 & 0 & 0 & 1 \\\\\n",
    "0 & 0 & 1 & 0 \\\\\n",
    "0 & 1 & 0 & 0 \\\\\n",
    "1 & 0 & 0 & 0\n",
    "\\end{bmatrix}$\n",
    "$YY = \\begin{bmatrix}\n",
    "0 & 0 & 0 & -1 \\\\\n",
    "0 & 0 & 1 & 0 \\\\\n",
    "0 & 1 & 0 & 0 \\\\\n",
    "-1 & 0 & 0 & 0\n",
    "\\end{bmatrix}$\n",
    "$ZZ = \\begin{bmatrix}\n",
    "1 & 0 & 0 & 0 \\\\\n",
    "0 & -1 & 0 & 0 \\\\\n",
    "0 & 0 & -1 & 0 \\\\\n",
    "0 & 0 & 0 & 1\n",
    "\\end{bmatrix}$\n",
    "$II = \\begin{bmatrix}\n",
    "1 & 0 & 0 & 0 \\\\\n",
    "0 & 1 & 0 & 0 \\\\\n",
    "0 & 0 & 1 & 0 \\\\\n",
    "0 & 0 & 0 & 1\n",
    "\\end{bmatrix}$\n",
    "\n",
    "where $X$, $Y$, $Z$ are pauli matrices.\n",
    "\n",
    "Then $H = 0.5 * ZZ + 0.5 * II - 0.5 * XX - 0.5 * YY$"
   ],
   "cell_type": "markdown",
   "metadata": {}
  },
  {
   "source": [
    "## Creating VQE circuits"
   ],
   "cell_type": "markdown",
   "metadata": {}
  },
  {
   "cell_type": "code",
   "execution_count": 9,
   "metadata": {},
   "outputs": [],
   "source": [
    "from qiskit import *\n",
    "from qiskit.aqua.operators import WeightedPauliOperator\n",
    "from qiskit.aqua.algorithms import NumPyEigensolver\n",
    "\n",
    "import numpy as np\n",
    "from scipy.optimize import minimize"
   ]
  },
  {
   "cell_type": "code",
   "execution_count": 10,
   "metadata": {},
   "outputs": [],
   "source": [
    "def get_hamiltonian_operator(i_coef, z_coef, x_coef, y_coef):\n",
    "    pauli_dict = {\n",
    "        'paulis': [{\"coeff\": {\"imag\": 0.0, \"real\": i_coef}, \"label\": \"II\"},\n",
    "                   {\"coeff\": {\"imag\": 0.0, \"real\": z_coef}, \"label\": \"ZZ\"},\n",
    "                   {\"coeff\": {\"imag\": 0.0, \"real\": x_coef}, \"label\": \"XX\"},\n",
    "                   {\"coeff\": {\"imag\": 0.0, \"real\": y_coef}, \"label\": \"YY\"}\n",
    "                   ]\n",
    "    }\n",
    "\n",
    "    return WeightedPauliOperator.from_dict(pauli_dict)\n",
    "\n",
    "# Get H from coef, which were found by hands\n",
    "H = get_hamiltonian_operator(i_coef=0.5, \n",
    "                             z_coef=0.5, \n",
    "                             x_coef=-0.5, \n",
    "                             y_coef=-0.5)"
   ]
  },
  {
   "cell_type": "code",
   "execution_count": 11,
   "metadata": {},
   "outputs": [
    {
     "output_type": "execute_result",
     "data": {
      "text/plain": "{'II': 0.5, 'ZZ': 0.5, 'XX': -0.5, 'YY': -0.5}"
     },
     "metadata": {},
     "execution_count": 11
    }
   ],
   "source": [
    "def pauli_operator_to_dict(pauli_operator):\n",
    "    d = pauli_operator.to_dict()\n",
    "    paulis = d['paulis']\n",
    "    paulis_dict = {}\n",
    "\n",
    "    for x in paulis:\n",
    "        label = x['label']\n",
    "        coeff = x['coeff']['real']\n",
    "        paulis_dict[label] = coeff\n",
    "\n",
    "    return paulis_dict\n",
    "\n",
    "pauli_dict = pauli_operator_to_dict(H)\n",
    "\n",
    "pauli_dict"
   ]
  },
  {
   "source": [
    "For this task let's anzats be $(Ry(\\phi2) Rx(\\phi1) I) CX (H I) |00>$ where $\\phi1$  and $\\phi2$ are variational parameters"
   ],
   "cell_type": "markdown",
   "metadata": {}
  },
  {
   "cell_type": "code",
   "execution_count": 12,
   "metadata": {},
   "outputs": [],
   "source": [
    "def quantum_state_preparation(circuit, parameters):\n",
    "    q = circuit.qregs[0] \n",
    "    circuit.h(q[0])\n",
    "    circuit.cx(q[0], q[1])\n",
    "    circuit.rx(parameters[0], q[0])\n",
    "    circuit.ry(parameters[1], q[0])\n",
    "\n",
    "    return circuit"
   ]
  },
  {
   "cell_type": "code",
   "execution_count": 13,
   "metadata": {},
   "outputs": [],
   "source": [
    "def vqe_circuit(parameters, measure):\n",
    "    q = QuantumRegister(2)\n",
    "    c = ClassicalRegister(2)\n",
    "    circuit = QuantumCircuit(q, c)\n",
    "\n",
    "    circuit = quantum_state_preparation(circuit, parameters)\n",
    "\n",
    "    if measure == 'ZZ':\n",
    "        circuit.measure(q[0], c[0])\n",
    "        circuit.measure(q[1], c[1])\n",
    "    elif measure == 'XX':\n",
    "        circuit.u2(0, np.pi, q[0]) # H gate for right basis\n",
    "        circuit.u2(0, np.pi, q[1]) # H gate for right basis\n",
    "        circuit.measure(q[0], c[0])\n",
    "        circuit.measure(q[1], c[1])\n",
    "    elif measure == 'YY':\n",
    "        circuit.u2(0, np.pi/2, q[0]) # Y gate for right basis\n",
    "        circuit.u2(0, np.pi/2, q[1]) # Y gate for right basis\n",
    "        circuit.measure(q[0], c[0])\n",
    "        circuit.measure(q[1], c[1])\n",
    "\n",
    "    return circuit"
   ]
  },
  {
   "source": [
    "It's not hard to show that expectation value for $<state|ZZ|state> = (n00 + n11 - n01 - n10)/nshots$, with $-1$ coefficient for those eigenvectors which eigenvalue is $-1$ and with $+1$ coefficient for those eigenvectors which eigenvalue is $+1$"
   ],
   "cell_type": "markdown",
   "metadata": {}
  },
  {
   "cell_type": "code",
   "execution_count": 14,
   "metadata": {},
   "outputs": [],
   "source": [
    "def expectation(parameters, measure):\n",
    "    circuit = None\n",
    "    if measure == 'II':\n",
    "        return 1\n",
    "    elif measure == 'ZZ':\n",
    "        circuit = vqe_circuit(parameters, 'ZZ')\n",
    "    elif measure == 'XX':\n",
    "        circuit = vqe_circuit(parameters, 'XX')\n",
    "    elif measure == 'YY':\n",
    "        circuit = vqe_circuit(parameters, 'YY')\n",
    "    \n",
    "    shots = 8192\n",
    "    backend = BasicAer.get_backend('qasm_simulator')\n",
    "    job = execute(circuit, backend, shots=shots)\n",
    "    result = job.result()\n",
    "    counts = result.get_counts()\n",
    "    \n",
    "    expectation_value = 0\n",
    "    for measure_result in counts:\n",
    "        sign = +1\n",
    "        if measure_result == '01' or measure_result == '10':\n",
    "            sign = -1\n",
    "        expectation_value += sign * counts[measure_result] / shots\n",
    "         \n",
    "    return expectation_value"
   ]
  },
  {
   "source": [
    "## VQE optimization"
   ],
   "cell_type": "markdown",
   "metadata": {}
  },
  {
   "cell_type": "code",
   "execution_count": 15,
   "metadata": {},
   "outputs": [],
   "source": [
    "# Get energy (cost) function\n",
    "\n",
    "def energy(parameters):\n",
    "    energy = 0\n",
    "    for pauli_name in pauli_dict.keys():\n",
    "        energy += pauli_dict[pauli_name] * expectation(parameters, pauli_name)\n",
    "    return energy"
   ]
  },
  {
   "cell_type": "code",
   "execution_count": 16,
   "metadata": {
    "tags": []
   },
   "outputs": [
    {
     "output_type": "stream",
     "name": "stdout",
     "text": "Reference minimum energy (eigenvalue) of H: -1.0\nMinimum energy (eigenvalue) of H: -1.0\nOptimized params phi1: -3.14984, phi2 0.00598\n"
    }
   ],
   "source": [
    "# Optimization\n",
    "\n",
    "params = list(np.pi * (np.random.random(size=2) - 0.5))\n",
    "tol = 1e-3\n",
    "opt_vqe = minimize(energy, params, method='Powell', tol=tol)\n",
    "\n",
    "exact_result = NumPyEigensolver(H).run()\n",
    "reference_energy = min(np.real(exact_result.eigenvalues))\n",
    "\n",
    "print(f'Reference minimum energy (eigenvalue) of H: {reference_energy}')\n",
    "print(f'Minimum energy (eigenvalue) of H: {np.round(opt_vqe.fun, 5)}')\n",
    "print(f'Optimized params phi1: {np.round(opt_vqe.x[0], 5)}, phi2 {np.round(opt_vqe.x[1], 5)}')"
   ]
  },
  {
   "source": [
    "Since $\\phi2 = 0$ so it did not have to be included in the anzats."
   ],
   "cell_type": "markdown",
   "metadata": {}
  }
 ]
}